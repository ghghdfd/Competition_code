{
 "cells": [
  {
   "cell_type": "markdown",
   "metadata": {},
   "source": []
  },
  {
   "cell_type": "code",
   "execution_count": 1,
   "metadata": {},
   "outputs": [
    {
     "data": {
      "text/html": [
       "<style>.container { width: 100% !important; }</style>"
      ],
      "text/plain": [
       "<IPython.core.display.HTML object>"
      ]
     },
     "metadata": {},
     "output_type": "display_data"
    }
   ],
   "source": [
    "import pandas as pd\n",
    "import numpy as np\n",
    "\n",
    "from catboost import CatBoostClassifier\n",
    "from sklearn.model_selection import StratifiedKFold\n",
    "\n",
    "from sklearn.model_selection import KFold, StratifiedKFold\n",
    "from sklearn.metrics import log_loss\n",
    "from tensorflow.keras.utils import to_categorical\n",
    "\n",
    "import matplotlib.pyplot as plt\n",
    "import seaborn as sns\n",
    "\n",
    "import warnings\n",
    "warnings.filterwarnings('ignore')\n",
    "from IPython.core.display import display, HTML\n",
    "display(HTML(\"<style>.container { width: 100% !important; }</style>\"))"
   ]
  },
  {
   "cell_type": "markdown",
   "metadata": {},
   "source": [
    "### 데이터 불러오기"
   ]
  },
  {
   "cell_type": "code",
   "execution_count": 2,
   "metadata": {},
   "outputs": [],
   "source": [
    "train = pd.read_csv('./open/train.csv')\n",
    "train = train.drop(['index'], axis=1)\n",
    "\n",
    "test = pd.read_csv('./open/test.csv')\n",
    "test = test.drop(['index'], axis=1)\n",
    "\n",
    "submit = pd.read_csv('./open/sample_submission.csv')"
   ]
  },
  {
   "cell_type": "markdown",
   "metadata": {},
   "source": [
    "### 전처리 함수"
   ]
  },
  {
   "cell_type": "code",
   "execution_count": 3,
   "metadata": {},
   "outputs": [],
   "source": [
    "# day를 year로 변경해주는 함수\n",
    "def days_to_year(x):\n",
    "    return (x*-1)/365"
   ]
  },
  {
   "cell_type": "code",
   "execution_count": 4,
   "metadata": {},
   "outputs": [],
   "source": [
    "# 마이너스 변환\n",
    "def minus(x):\n",
    "    return x * -1"
   ]
  },
  {
   "cell_type": "markdown",
   "metadata": {},
   "source": [
    "### 이상치 제거\n"
   ]
  },
  {
   "cell_type": "code",
   "execution_count": 5,
   "metadata": {},
   "outputs": [],
   "source": [
    "def remove_outlier(train, column):\n",
    "    \n",
    "    df = train[column]\n",
    "    \n",
    "    # 1분위수\n",
    "    quan_25 = np.percentile(df.values, 25)\n",
    "    \n",
    "    # 3분위수\n",
    "    quan_75 = np.percentile(df.values, 75)\n",
    "    \n",
    "    iqr = quan_75 - quan_25\n",
    "    \n",
    "    lowest = quan_25 - iqr * 5\n",
    "    highest = quan_75 + iqr * 5\n",
    "    outlier_index = df[(df < lowest) | (df > highest)].index\n",
    "    print('outlier의 수 : ' , len(outlier_index))\n",
    "    print(df.iloc[outlier_index])\n",
    "    train.drop(outlier_index, axis = 0, inplace = True)\n",
    "    \n",
    "    return train\n"
   ]
  },
  {
   "cell_type": "code",
   "execution_count": 6,
   "metadata": {},
   "outputs": [
    {
     "name": "stdout",
     "output_type": "stream",
     "text": [
      "outlier의 수 :  6\n",
      "8462     14\n",
      "9021     14\n",
      "10731    19\n",
      "25313     7\n",
      "25390    14\n",
      "25638     7\n",
      "Name: child_num, dtype: int64\n"
     ]
    },
    {
     "data": {
      "text/plain": [
       "26451"
      ]
     },
     "execution_count": 6,
     "metadata": {},
     "output_type": "execute_result"
    }
   ],
   "source": [
    "candidate = ['child_num']\n",
    "for cand in candidate:  \n",
    "    train = remove_outlier(train,cand)\n",
    "\n",
    "train.reset_index(drop = True,inplace = True)\n",
    "len(train)"
   ]
  },
  {
   "cell_type": "markdown",
   "metadata": {},
   "source": [
    "### 변수 조합으로 파생변수 생성"
   ]
  },
  {
   "cell_type": "code",
   "execution_count": 7,
   "metadata": {},
   "outputs": [],
   "source": [
    "def add_var(data):\n",
    "    \n",
    "    # 개개인을 구분할 수 있는 변수들을 묶어서 생성\n",
    "    data['personal_id'] = data['gender'] + \"_\" + data['DAYS_BIRTH'].astype(str) + \"_\" + data['income_total'].astype(str) + \"_\" + data['income_type'].astype(str)\n",
    "    \n",
    "    # 카드를 생성한 기간도 같은 경우가 있어서 begin을 추가하여 하나의 변수를 더 생성\n",
    "    data['personal_begin_id'] = data['gender'] + \"_\" + data['DAYS_BIRTH'].astype(str) + \"_\" + data['income_total'].astype(str) + \"_\" + data['income_type'].astype(str) + \"_\" + data['begin_month'].astype(str)\n",
    "    \n",
    "    # 그외의 변수들을 조합하여 하나의 변수로 추가 생성\n",
    "    data['g_r_c'] = data['gender'] + \"_\" + data['reality'] + \"_\" + data['car'] \n",
    "    data['p_w_e'] = data['phone'].astype(str) + \"_\" + data['work_phone'].astype(str) + \"_\" + data['email'].astype(str) \n",
    "    \n",
    "    return data"
   ]
  },
  {
   "cell_type": "code",
   "execution_count": 8,
   "metadata": {},
   "outputs": [],
   "source": [
    "train = add_var(train)\n",
    "test = add_var(test)"
   ]
  },
  {
   "cell_type": "markdown",
   "metadata": {},
   "source": [
    "### 숫자형 변수 전처리 및 변수 생성"
   ]
  },
  {
   "cell_type": "markdown",
   "metadata": {},
   "source": []
  },
  {
   "cell_type": "code",
   "execution_count": 9,
   "metadata": {},
   "outputs": [],
   "source": [
    "def numeric_process(data):\n",
    "    \n",
    "    # income_total 변수 전처리\n",
    "    # 만단위로 생성\n",
    "    data['income_total'] = data['income_total']/10000\n",
    "    # 편차 제곱 변수 생성\n",
    "    data['income_total_dev'] = (data['income_total'] - data['income_total'].mean())**2\n",
    "    # 로그 변환\n",
    "    data['income_total_log'] = data['income_total'].apply(np.log1p)\n",
    "\n",
    "    # DAYS_EMPLOYED 변수 전처리\n",
    "    # 0 이상인 경우 0으로 모두 변환\n",
    "    data.loc[data['DAYS_EMPLOYED'] >= 0,'DAYS_EMPLOYED']=0\n",
    "    # day를 year로 변환\n",
    "    data['DAYS_EMPLOYED'] = data['DAYS_EMPLOYED'].apply(days_to_year) \n",
    "    # 로그 변환\n",
    "    data['DAYS_EMPLOYED_log'] = data['DAYS_EMPLOYED'].apply(np.log1p)\n",
    "\n",
    "    # begin_month 변수 전처리\n",
    "    # 마이너스 변환\n",
    "    data['begin_month'] = data['begin_month'].apply(minus)\n",
    "    \n",
    "    # DAYS_BIRTH 변수 전처리\n",
    "    # day를 year로 변환\n",
    "    data['DAYS_BIRTH'] = data['DAYS_BIRTH'].apply(days_to_year)\n",
    "\n",
    "    #  DAYS_BIRTH, DAYS_EMPLOYED, income_total변수를 조합하여 RATIO 변수 생성\n",
    "    data['EMPLOYED_BIRTH_RATIO'] = data['DAYS_EMPLOYED']/data['DAYS_BIRTH']\n",
    "    data['INCOME_EMPLOYED_RATIO'] = data['income_total']/data['DAYS_EMPLOYED']\n",
    "    data['INCOME_BIRTH_RATIO'] = data['income_total']/data['DAYS_BIRTH']\n",
    "    \n",
    "    # 가족수 - 자식수\n",
    "    data['diff_fam_child'] = data['family_size'] - data['child_num']\n",
    "    # chid_num과 family_size는 다음과 같이 최대 2와 5가 되도록 전처리\n",
    "    data.loc[data['child_num'] >= 2,'child_num'] = 2\n",
    "    data.loc[data['family_size'] >= 5,'child_num'] = 5\n",
    "    # 가족수와 자녀수 sum 변수 추가\n",
    "    data['FAM_CHILD_SUM'] = data[['child_num', 'family_size']].sum(axis=1)\n",
    "    \n",
    "    # income을 가족 수 및 자식 수로 나눈 비율\n",
    "    data['INCOME_FAM_RATIO'] = data['income_total']/data['family_size']\n",
    "    data['INCOME_child_num_RATIO'] = data['income_total']/data['child_num']\n",
    "    \n",
    "    # 일을하게 된 시점 변수 추가\n",
    "    data['BIRTH_MINUS_EMPLOYED'] = data['DAYS_BIRTH'] - data['DAYS_EMPLOYED']\n",
    "    # income total 변수에 before_EMPLOYED로 나눈 변수 추가\n",
    "    data['INCOME_BIRTH_MINUS_EMPLOYED_RATIO'] = data['income_total']/data['BIRTH_MINUS_EMPLOYED']\n",
    "    \n",
    "    return data "
   ]
  },
  {
   "cell_type": "code",
   "execution_count": 10,
   "metadata": {},
   "outputs": [],
   "source": [
    "train = numeric_process(train)\n",
    "test = numeric_process(test)"
   ]
  },
  {
   "cell_type": "markdown",
   "metadata": {},
   "source": [
    "### occyp_type 변수 전처리"
   ]
  },
  {
   "cell_type": "code",
   "execution_count": 11,
   "metadata": {},
   "outputs": [],
   "source": [
    "def occype_process(data):\n",
    "    \n",
    "    # occyp_type 변수에만 있는 결측치를 'NAN' 값으로 대체\n",
    "    data['occyp_type'] = data['occyp_type'].fillna('NAN')\n",
    "    # 경력이 없고 직업군이 none인 사람은 no_work로 대체\n",
    "    data.loc[(data['DAYS_EMPLOYED'] == 0) & (data['occyp_type'] == 'NAN'), 'occyp_type'] = 'no_work'\n",
    "    print(data['occyp_type'].value_counts(), '\\n\\n')\n",
    "\n",
    "    return data\n"
   ]
  },
  {
   "cell_type": "code",
   "execution_count": 12,
   "metadata": {},
   "outputs": [
    {
     "name": "stdout",
     "output_type": "stream",
     "text": [
      "Laborers                 4512\n",
      "no_work                  4438\n",
      "NAN                      3733\n",
      "Core staff               2646\n",
      "Sales staff              2539\n",
      "Managers                 2167\n",
      "Drivers                  1572\n",
      "High skill tech staff    1040\n",
      "Accountants               902\n",
      "Medicine staff            864\n",
      "Cooking staff             457\n",
      "Security staff            424\n",
      "Cleaning staff            401\n",
      "Private service staff     243\n",
      "Low-skill Laborers        127\n",
      "Waiters/barmen staff      123\n",
      "Secretaries                97\n",
      "Realty agents              63\n",
      "HR staff                   62\n",
      "IT staff                   41\n",
      "Name: occyp_type, dtype: int64 \n",
      "\n",
      "\n",
      "Laborers                 1699\n",
      "no_work                  1697\n",
      "NAN                      1455\n",
      "Sales staff               946\n",
      "Core staff                945\n",
      "Managers                  845\n",
      "Drivers                   563\n",
      "Medicine staff            343\n",
      "High skill tech staff     343\n",
      "Accountants               339\n",
      "Cooking staff             198\n",
      "Security staff            168\n",
      "Cleaning staff            148\n",
      "Private service staff     101\n",
      "Secretaries                54\n",
      "Waiters/barmen staff       50\n",
      "Low-skill Laborers         48\n",
      "HR staff                   23\n",
      "IT staff                   19\n",
      "Realty agents              16\n",
      "Name: occyp_type, dtype: int64 \n",
      "\n",
      "\n"
     ]
    }
   ],
   "source": [
    "train = occype_process(train)\n",
    "test = occype_process(test)"
   ]
  },
  {
   "cell_type": "markdown",
   "metadata": {},
   "source": [
    "### 구간화 변수 생성"
   ]
  },
  {
   "cell_type": "code",
   "execution_count": 13,
   "metadata": {},
   "outputs": [],
   "source": [
    "#구간화 함수\n",
    "def make_bin(df, variable, n):\n",
    "    \n",
    "    data = df\n",
    "    count, bin_dividers = np.histogram(data[variable], bins=n)\n",
    "    bin_names=[str(i) for i in range(n)]\n",
    "    data['%s_bin' % variable] = pd.cut(x=data[variable], bins=bin_dividers, labels=bin_names, include_lowest=True)\n",
    "    data['%s_bin' % variable] = pd.factorize(data['%s_bin' % variable])[0]\n",
    "    print(data['%s_bin' % variable], '\\n\\n')\n",
    "    \n",
    "    return data"
   ]
  },
  {
   "cell_type": "code",
   "execution_count": 14,
   "metadata": {},
   "outputs": [
    {
     "name": "stdout",
     "output_type": "stream",
     "text": [
      "0        0\n",
      "1        1\n",
      "2        2\n",
      "3        3\n",
      "4        3\n",
      "        ..\n",
      "26446    1\n",
      "26447    3\n",
      "26448    5\n",
      "26449    5\n",
      "26450    2\n",
      "Name: DAYS_BIRTH_bin, Length: 26451, dtype: int64 \n",
      "\n",
      "\n",
      "0       0\n",
      "1       1\n",
      "2       2\n",
      "3       1\n",
      "4       3\n",
      "       ..\n",
      "9995    1\n",
      "9996    8\n",
      "9997    4\n",
      "9998    3\n",
      "9999    9\n",
      "Name: DAYS_BIRTH_bin, Length: 10000, dtype: int64 \n",
      "\n",
      "\n"
     ]
    }
   ],
   "source": [
    "# days_birth만 구간화 했을 떄 가장 성능이 좋았음\n",
    "train = make_bin(train, 'DAYS_BIRTH', n=10)\n",
    "test = make_bin(test, 'DAYS_BIRTH', n=10)"
   ]
  },
  {
   "cell_type": "markdown",
   "metadata": {},
   "source": [
    "### 최종 데이터 shape 확인"
   ]
  },
  {
   "cell_type": "code",
   "execution_count": 16,
   "metadata": {},
   "outputs": [
    {
     "data": {
      "text/plain": [
       "((26451, 33), (10000, 32))"
      ]
     },
     "execution_count": 16,
     "metadata": {},
     "output_type": "execute_result"
    }
   ],
   "source": [
    "train.shape, test.shape"
   ]
  },
  {
   "cell_type": "markdown",
   "metadata": {},
   "source": [
    "### 학습을 위한 피쳐 레이블 및 label 생성"
   ]
  },
  {
   "cell_type": "code",
   "execution_count": 17,
   "metadata": {},
   "outputs": [],
   "source": [
    "train_x = train.drop(['credit'],axis=1)\n",
    "train_y = train['credit']"
   ]
  },
  {
   "cell_type": "markdown",
   "metadata": {},
   "source": [
    "### 전체 변수 정보 확인"
   ]
  },
  {
   "cell_type": "code",
   "execution_count": 18,
   "metadata": {},
   "outputs": [
    {
     "name": "stdout",
     "output_type": "stream",
     "text": [
      "<class 'pandas.core.frame.DataFrame'>\n",
      "RangeIndex: 26451 entries, 0 to 26450\n",
      "Data columns (total 32 columns):\n",
      " #   Column                             Non-Null Count  Dtype  \n",
      "---  ------                             --------------  -----  \n",
      " 0   gender                             26451 non-null  object \n",
      " 1   car                                26451 non-null  object \n",
      " 2   reality                            26451 non-null  object \n",
      " 3   child_num                          26451 non-null  int64  \n",
      " 4   income_type                        26451 non-null  object \n",
      " 5   edu_type                           26451 non-null  object \n",
      " 6   family_type                        26451 non-null  object \n",
      " 7   house_type                         26451 non-null  object \n",
      " 8   DAYS_BIRTH                         26451 non-null  float64\n",
      " 9   work_phone                         26451 non-null  int64  \n",
      " 10  phone                              26451 non-null  int64  \n",
      " 11  email                              26451 non-null  int64  \n",
      " 12  occyp_type                         26451 non-null  object \n",
      " 13  family_size                        26451 non-null  float64\n",
      " 14  begin_month                        26451 non-null  float64\n",
      " 15  personal_id                        26451 non-null  object \n",
      " 16  personal_begin_id                  26451 non-null  object \n",
      " 17  g_r_c                              26451 non-null  object \n",
      " 18  p_w_e                              26451 non-null  object \n",
      " 19  income_total_dev                   26451 non-null  float64\n",
      " 20  income_total_log                   26451 non-null  float64\n",
      " 21  DAYS_EMPLOYED_log                  26451 non-null  float64\n",
      " 22  EMPLOYED_BIRTH_RATIO               26451 non-null  float64\n",
      " 23  INCOME_EMPLOYED_RATIO              26451 non-null  float64\n",
      " 24  INCOME_BIRTH_RATIO                 26451 non-null  float64\n",
      " 25  diff_fam_child                     26451 non-null  float64\n",
      " 26  FAM_CHILD_SUM                      26451 non-null  float64\n",
      " 27  INCOME_FAM_RATIO                   26451 non-null  float64\n",
      " 28  INCOME_child_num_RATIO             26451 non-null  float64\n",
      " 29  BIRTH_MINUS_EMPLOYED               26451 non-null  float64\n",
      " 30  INCOME_BIRTH_MINUS_EMPLOYED_RATIO  26451 non-null  float64\n",
      " 31  DAYS_BIRTH_bin                     26451 non-null  int64  \n",
      "dtypes: float64(15), int64(5), object(12)\n",
      "memory usage: 6.5+ MB\n"
     ]
    }
   ],
   "source": [
    "train_x.info()"
   ]
  },
  {
   "cell_type": "markdown",
   "metadata": {},
   "source": [
    "### 컬럼 순서대로 정렬 후 object형 변수의 인덱스 정보를 cat_feature에 활용"
   ]
  },
  {
   "cell_type": "code",
   "execution_count": 19,
   "metadata": {},
   "outputs": [
    {
     "name": "stdout",
     "output_type": "stream",
     "text": [
      "Cat features are: ['gender', 'car', 'reality', 'income_type', 'edu_type', 'family_type', 'house_type', 'occyp_type', 'personal_id', 'personal_begin_id', 'g_r_c', 'p_w_e']\n",
      "[ 0  1  2  4  5  6  7 12 15 16 17 18]\n"
     ]
    }
   ],
   "source": [
    "# object형 변수는 cat_features에 추가\n",
    "cat_features = [f for f in train_x.columns if train_x[f].dtype == 'object']\n",
    "\n",
    "def column_index(df, cat_features):\n",
    "    cols = df.columns.values\n",
    "    sidx = np.argsort(cols)\n",
    "    return sidx[np.searchsorted(cols, cat_features, sorter=sidx)]\n",
    "\n",
    "cat_features_idx = column_index(train_x, cat_features)    \n",
    "print(\"Cat features are: %s\" % [f for f in cat_features])\n",
    "print(cat_features_idx)"
   ]
  },
  {
   "cell_type": "markdown",
   "metadata": {},
   "source": [
    "### 모델링"
   ]
  },
  {
   "cell_type": "code",
   "execution_count": 20,
   "metadata": {
    "scrolled": true
   },
   "outputs": [],
   "source": [
    "cat_models={}\n",
    "\n",
    "def cat_kfold(max_depth, learning_rate, random_seed):\n",
    "    \n",
    "    folds=StratifiedKFold(n_splits=10, shuffle=True, random_state=55)\n",
    "    outcomes=[]\n",
    "    sub=np.zeros((test.shape[0], 3))  \n",
    "    \n",
    "    for seed in random_seed:\n",
    "        for n_fold, (train_index, val_index) in enumerate(folds.split(train_x, train_y)):\n",
    "            print(f'===================================={n_fold+1}============================================')\n",
    "            \n",
    "            X_train, X_val = train_x.iloc[train_index], train_x.iloc[val_index]\n",
    "            y_train, y_val = train_y.iloc[train_index], train_y.iloc[val_index]\n",
    "\n",
    "            # early_stopping 50에서 가장 좋은 점수를 내는 learning_rate를 활용\n",
    "            cat = CatBoostClassifier(n_estimators=3000, max_depth=max_depth, random_seed=seed, learning_rate=learning_rate, bootstrap_type ='Bernoulli')\n",
    "            cat.fit(X_train, y_train,\n",
    "                  eval_set=[(X_train, y_train), (X_val, y_val)],\n",
    "                  early_stopping_rounds=50, cat_features=cat_features,\n",
    "                  verbose=100)\n",
    "\n",
    "            cat_models[n_fold] = cat\n",
    "\n",
    "            # val 데이터 예측\n",
    "            predictions = cat.predict_proba(X_val)\n",
    "            # test 데이터 예측\n",
    "            test_predictions = cat.predict_proba(test)\n",
    "\n",
    "            # val 데이터 예측 logloss 값 저장\n",
    "            logloss=log_loss(to_categorical(y_val), predictions)\n",
    "            outcomes.append(logloss)\n",
    "            print(f\"FOLD {n_fold+1} : logloss:{logloss}\")\n",
    "\n",
    "            # test 데이터 예측 결과 종합\n",
    "            # 최종 적으로는 kolds 횟수 만큼 나눠서 평균 값을 활용\n",
    "            sub+=test_predictions\n",
    "\n",
    "            print(f'================================================================================\\n\\n')\n",
    "\n",
    "    # 저장된 val 데이터 예측 logloss 값의 평균 값으로 성능을 비교\n",
    "    mean_outcome=np.mean(outcomes)\n",
    "    print(\"Mean:{}\".format(mean_outcome))\n",
    "    \n",
    "    return sub/(folds.n_splits * len(random_seed))\n",
    "    "
   ]
  },
  {
   "cell_type": "code",
   "execution_count": 21,
   "metadata": {
    "scrolled": true
   },
   "outputs": [
    {
     "name": "stdout",
     "output_type": "stream",
     "text": [
      "====================================1============================================\n",
      "0:\tlearn: 1.0753981\ttest: 1.0753981\ttest1: 1.0756713\tbest: 1.0756713 (0)\ttotal: 172ms\tremaining: 8m 36s\n",
      "100:\tlearn: 0.7193150\ttest: 0.5183206\ttest1: 0.6833848\tbest: 0.6833848 (100)\ttotal: 9.9s\tremaining: 4m 44s\n",
      "200:\tlearn: 0.7043177\ttest: 0.4936565\ttest1: 0.6754033\tbest: 0.6754033 (200)\ttotal: 22.5s\tremaining: 5m 13s\n",
      "300:\tlearn: 0.6885788\ttest: 0.4764666\ttest1: 0.6723342\tbest: 0.6723342 (300)\ttotal: 35.9s\tremaining: 5m 21s\n",
      "400:\tlearn: 0.6738639\ttest: 0.4705566\ttest1: 0.6711357\tbest: 0.6711357 (400)\ttotal: 49.5s\tremaining: 5m 20s\n",
      "500:\tlearn: 0.6590802\ttest: 0.4663528\ttest1: 0.6707385\tbest: 0.6706953 (496)\ttotal: 1m 4s\tremaining: 5m 19s\n",
      "600:\tlearn: 0.6420648\ttest: 0.4609411\ttest1: 0.6705789\tbest: 0.6703244 (574)\ttotal: 1m 17s\tremaining: 5m 9s\n",
      "Stopped by overfitting detector  (50 iterations wait)\n",
      "\n",
      "bestTest = 0.6703244328\n",
      "bestIteration = 574\n",
      "\n",
      "Shrink model to first 575 iterations.\n",
      "FOLD 1 : logloss:0.6703244328385796\n",
      "================================================================================\n",
      "\n",
      "\n",
      "====================================2============================================\n",
      "0:\tlearn: 1.0767587\ttest: 1.0767064\ttest1: 1.0766406\tbest: 1.0766406 (0)\ttotal: 135ms\tremaining: 6m 44s\n",
      "100:\tlearn: 0.7175677\ttest: 0.5180454\ttest1: 0.6779790\tbest: 0.6779790 (100)\ttotal: 10.2s\tremaining: 4m 51s\n",
      "200:\tlearn: 0.7004349\ttest: 0.4924108\ttest1: 0.6709044\tbest: 0.6708515 (189)\ttotal: 22.7s\tremaining: 5m 16s\n",
      "300:\tlearn: 0.6862630\ttest: 0.4857915\ttest1: 0.6694773\tbest: 0.6693898 (297)\ttotal: 35.8s\tremaining: 5m 21s\n",
      "400:\tlearn: 0.6708464\ttest: 0.4735211\ttest1: 0.6682991\tbest: 0.6682671 (397)\ttotal: 49.3s\tremaining: 5m 19s\n",
      "Stopped by overfitting detector  (50 iterations wait)\n",
      "\n",
      "bestTest = 0.6679707003\n",
      "bestIteration = 443\n",
      "\n",
      "Shrink model to first 444 iterations.\n",
      "FOLD 2 : logloss:0.6679707002697142\n",
      "================================================================================\n",
      "\n",
      "\n",
      "====================================3============================================\n",
      "0:\tlearn: 1.0768867\ttest: 1.0768712\ttest1: 1.0764059\tbest: 1.0764059 (0)\ttotal: 133ms\tremaining: 6m 37s\n",
      "100:\tlearn: 0.7180861\ttest: 0.5158097\ttest1: 0.6626619\tbest: 0.6626619 (100)\ttotal: 10.8s\tremaining: 5m 10s\n",
      "200:\tlearn: 0.7031455\ttest: 0.4740190\ttest1: 0.6540514\tbest: 0.6540514 (200)\ttotal: 24s\tremaining: 5m 33s\n",
      "300:\tlearn: 0.6885999\ttest: 0.4609187\ttest1: 0.6501254\tbest: 0.6501254 (300)\ttotal: 36.9s\tremaining: 5m 30s\n",
      "400:\tlearn: 0.6760931\ttest: 0.4565245\ttest1: 0.6489303\tbest: 0.6488591 (396)\ttotal: 50.5s\tremaining: 5m 27s\n",
      "500:\tlearn: 0.6628593\ttest: 0.4511678\ttest1: 0.6480795\tbest: 0.6479855 (488)\ttotal: 1m 4s\tremaining: 5m 19s\n",
      "Stopped by overfitting detector  (50 iterations wait)\n",
      "\n",
      "bestTest = 0.6479855453\n",
      "bestIteration = 488\n",
      "\n",
      "Shrink model to first 489 iterations.\n",
      "FOLD 3 : logloss:0.6479855453156986\n",
      "================================================================================\n",
      "\n",
      "\n",
      "====================================4============================================\n",
      "0:\tlearn: 1.0752382\ttest: 1.0751911\ttest1: 1.0753775\tbest: 1.0753775 (0)\ttotal: 108ms\tremaining: 5m 24s\n",
      "100:\tlearn: 0.7158472\ttest: 0.5161902\ttest1: 0.6824792\tbest: 0.6824792 (100)\ttotal: 10.6s\tremaining: 5m 4s\n",
      "200:\tlearn: 0.6999906\ttest: 0.4789495\ttest1: 0.6761613\tbest: 0.6760980 (198)\ttotal: 22.9s\tremaining: 5m 18s\n",
      "300:\tlearn: 0.6862390\ttest: 0.4621209\ttest1: 0.6756022\tbest: 0.6755859 (299)\ttotal: 36.6s\tremaining: 5m 28s\n",
      "Stopped by overfitting detector  (50 iterations wait)\n",
      "\n",
      "bestTest = 0.6754479136\n",
      "bestIteration = 307\n",
      "\n",
      "Shrink model to first 308 iterations.\n",
      "FOLD 4 : logloss:0.6754479136457409\n",
      "================================================================================\n",
      "\n",
      "\n",
      "====================================5============================================\n",
      "0:\tlearn: 1.0767520\ttest: 1.0766804\ttest1: 1.0769713\tbest: 1.0769713 (0)\ttotal: 136ms\tremaining: 6m 49s\n",
      "100:\tlearn: 0.7174475\ttest: 0.5156993\ttest1: 0.6845620\tbest: 0.6845620 (100)\ttotal: 10.6s\tremaining: 5m 4s\n",
      "200:\tlearn: 0.7018300\ttest: 0.4760076\ttest1: 0.6768769\tbest: 0.6768769 (200)\ttotal: 23.7s\tremaining: 5m 30s\n",
      "300:\tlearn: 0.6877278\ttest: 0.4637876\ttest1: 0.6748814\tbest: 0.6748563 (299)\ttotal: 37.9s\tremaining: 5m 39s\n",
      "400:\tlearn: 0.6719990\ttest: 0.4570220\ttest1: 0.6733865\tbest: 0.6733865 (400)\ttotal: 52.2s\tremaining: 5m 38s\n",
      "500:\tlearn: 0.6567895\ttest: 0.4521291\ttest1: 0.6731344\tbest: 0.6729575 (476)\ttotal: 1m 6s\tremaining: 5m 31s\n",
      "Stopped by overfitting detector  (50 iterations wait)\n",
      "\n",
      "bestTest = 0.6729574874\n",
      "bestIteration = 476\n",
      "\n",
      "Shrink model to first 477 iterations.\n",
      "FOLD 5 : logloss:0.6729574874194995\n",
      "================================================================================\n",
      "\n",
      "\n",
      "====================================6============================================\n",
      "0:\tlearn: 1.0757957\ttest: 1.0757705\ttest1: 1.0757407\tbest: 1.0757407 (0)\ttotal: 101ms\tremaining: 5m 1s\n",
      "100:\tlearn: 0.7171833\ttest: 0.5154398\ttest1: 0.6806437\tbest: 0.6806437 (100)\ttotal: 11.4s\tremaining: 5m 28s\n",
      "200:\tlearn: 0.6997364\ttest: 0.4857641\ttest1: 0.6731033\tbest: 0.6731033 (200)\ttotal: 24.7s\tremaining: 5m 44s\n",
      "300:\tlearn: 0.6843505\ttest: 0.4740271\ttest1: 0.6709090\tbest: 0.6709090 (300)\ttotal: 39.1s\tremaining: 5m 50s\n",
      "400:\tlearn: 0.6682932\ttest: 0.4677556\ttest1: 0.6693621\tbest: 0.6693471 (382)\ttotal: 54s\tremaining: 5m 49s\n",
      "Stopped by overfitting detector  (50 iterations wait)\n",
      "\n",
      "bestTest = 0.6691909293\n",
      "bestIteration = 423\n",
      "\n",
      "Shrink model to first 424 iterations.\n",
      "FOLD 6 : logloss:0.6691909292546802\n",
      "================================================================================\n",
      "\n",
      "\n",
      "====================================7============================================\n",
      "0:\tlearn: 1.0767671\ttest: 1.0767984\ttest1: 1.0767797\tbest: 1.0767797 (0)\ttotal: 150ms\tremaining: 7m 29s\n",
      "100:\tlearn: 0.7184446\ttest: 0.5169130\ttest1: 0.6735904\tbest: 0.6735904 (100)\ttotal: 10.6s\tremaining: 5m 2s\n",
      "200:\tlearn: 0.7030103\ttest: 0.4924467\ttest1: 0.6661736\tbest: 0.6661736 (200)\ttotal: 23.3s\tremaining: 5m 24s\n",
      "300:\tlearn: 0.6872298\ttest: 0.4831449\ttest1: 0.6633754\tbest: 0.6633754 (300)\ttotal: 37.5s\tremaining: 5m 36s\n",
      "400:\tlearn: 0.6721959\ttest: 0.4772047\ttest1: 0.6627130\tbest: 0.6626525 (394)\ttotal: 52.6s\tremaining: 5m 40s\n",
      "500:\tlearn: 0.6566153\ttest: 0.4736067\ttest1: 0.6625675\tbest: 0.6622273 (476)\ttotal: 1m 8s\tremaining: 5m 39s\n",
      "Stopped by overfitting detector  (50 iterations wait)\n",
      "\n",
      "bestTest = 0.6622272693\n",
      "bestIteration = 476\n",
      "\n",
      "Shrink model to first 477 iterations.\n",
      "FOLD 7 : logloss:0.662227269273588\n",
      "================================================================================\n",
      "\n",
      "\n",
      "====================================8============================================\n",
      "0:\tlearn: 1.0752738\ttest: 1.0752649\ttest1: 1.0752663\tbest: 1.0752663 (0)\ttotal: 121ms\tremaining: 6m 2s\n",
      "100:\tlearn: 0.7184846\ttest: 0.5150940\ttest1: 0.6674425\tbest: 0.6674425 (100)\ttotal: 11.1s\tremaining: 5m 17s\n",
      "200:\tlearn: 0.7031174\ttest: 0.4773070\ttest1: 0.6598141\tbest: 0.6598052 (199)\ttotal: 24.5s\tremaining: 5m 41s\n",
      "300:\tlearn: 0.6888186\ttest: 0.4629213\ttest1: 0.6574254\tbest: 0.6573416 (296)\ttotal: 39.3s\tremaining: 5m 52s\n",
      "400:\tlearn: 0.6746217\ttest: 0.4561284\ttest1: 0.6563381\tbest: 0.6563167 (394)\ttotal: 54s\tremaining: 5m 50s\n",
      "Stopped by overfitting detector  (50 iterations wait)\n",
      "\n",
      "bestTest = 0.6562766794\n",
      "bestIteration = 437\n",
      "\n",
      "Shrink model to first 438 iterations.\n",
      "FOLD 8 : logloss:0.6562766794124822\n",
      "================================================================================\n",
      "\n",
      "\n",
      "====================================9============================================\n",
      "0:\tlearn: 1.0768049\ttest: 1.0767886\ttest1: 1.0766470\tbest: 1.0766470 (0)\ttotal: 149ms\tremaining: 7m 25s\n",
      "100:\tlearn: 0.7193065\ttest: 0.5195150\ttest1: 0.6771171\tbest: 0.6771171 (100)\ttotal: 10.5s\tremaining: 5m 1s\n",
      "200:\tlearn: 0.7016532\ttest: 0.4880622\ttest1: 0.6689692\tbest: 0.6689197 (197)\ttotal: 24.7s\tremaining: 5m 43s\n",
      "300:\tlearn: 0.6877927\ttest: 0.4679382\ttest1: 0.6668819\tbest: 0.6668819 (300)\ttotal: 39.7s\tremaining: 5m 56s\n",
      "400:\tlearn: 0.6735662\ttest: 0.4627046\ttest1: 0.6667356\tbest: 0.6666244 (394)\ttotal: 54.8s\tremaining: 5m 54s\n",
      "500:\tlearn: 0.6591285\ttest: 0.4577440\ttest1: 0.6660008\tbest: 0.6659782 (479)\ttotal: 1m 10s\tremaining: 5m 51s\n",
      "600:\tlearn: 0.6447510\ttest: 0.4532400\ttest1: 0.6657129\tbest: 0.6656843 (595)\ttotal: 1m 25s\tremaining: 5m 41s\n"
     ]
    },
    {
     "name": "stdout",
     "output_type": "stream",
     "text": [
      "700:\tlearn: 0.6301748\ttest: 0.4490891\ttest1: 0.6651684\tbest: 0.6651349 (696)\ttotal: 1m 40s\tremaining: 5m 30s\n",
      "800:\tlearn: 0.6159579\ttest: 0.4446388\ttest1: 0.6647183\tbest: 0.6645502 (787)\ttotal: 1m 55s\tremaining: 5m 17s\n",
      "900:\tlearn: 0.6010922\ttest: 0.4407893\ttest1: 0.6642516\tbest: 0.6642253 (861)\ttotal: 2m 10s\tremaining: 5m 4s\n",
      "Stopped by overfitting detector  (50 iterations wait)\n",
      "\n",
      "bestTest = 0.6642252852\n",
      "bestIteration = 861\n",
      "\n",
      "Shrink model to first 862 iterations.\n",
      "FOLD 9 : logloss:0.6642252851534052\n",
      "================================================================================\n",
      "\n",
      "\n",
      "====================================10============================================\n",
      "0:\tlearn: 1.0768180\ttest: 1.0767707\ttest1: 1.0768660\tbest: 1.0768660 (0)\ttotal: 150ms\tremaining: 7m 30s\n",
      "100:\tlearn: 0.7181306\ttest: 0.5172599\ttest1: 0.6810804\tbest: 0.6810804 (100)\ttotal: 11.8s\tremaining: 5m 37s\n",
      "200:\tlearn: 0.7022428\ttest: 0.4922048\ttest1: 0.6743342\tbest: 0.6742762 (191)\ttotal: 25.2s\tremaining: 5m 50s\n",
      "300:\tlearn: 0.6881953\ttest: 0.4752019\ttest1: 0.6722590\tbest: 0.6722526 (299)\ttotal: 40.2s\tremaining: 6m\n",
      "400:\tlearn: 0.6733334\ttest: 0.4668762\ttest1: 0.6712334\tbest: 0.6712334 (400)\ttotal: 55.4s\tremaining: 5m 58s\n",
      "500:\tlearn: 0.6593390\ttest: 0.4620588\ttest1: 0.6710938\tbest: 0.6709456 (474)\ttotal: 1m 11s\tremaining: 5m 55s\n",
      "Stopped by overfitting detector  (50 iterations wait)\n",
      "\n",
      "bestTest = 0.6709455537\n",
      "bestIteration = 474\n",
      "\n",
      "Shrink model to first 475 iterations.\n",
      "FOLD 10 : logloss:0.6709455537332741\n",
      "================================================================================\n",
      "\n",
      "\n",
      "Mean:0.6657551796316662\n"
     ]
    }
   ],
   "source": [
    "my_submission = cat_kfold(8, 0.04, [1042])"
   ]
  },
  {
   "cell_type": "markdown",
   "metadata": {},
   "source": [
    "### train 데이터 전체로 fit하여 학습한 것을 최종 모델로 활용\n",
    "- AutoML 에서 최종적으로 finalize로 학습시키는 것처럼 최종 파라미터로 전체 데이터에 fit하여 학습시켰습니다."
   ]
  },
  {
   "cell_type": "code",
   "execution_count": 24,
   "metadata": {},
   "outputs": [
    {
     "name": "stdout",
     "output_type": "stream",
     "text": [
      "0:\tlearn: 1.0757624\ttotal: 123ms\tremaining: 54.5s\n",
      "50:\tlearn: 0.7395179\ttotal: 4.71s\tremaining: 36.2s\n",
      "100:\tlearn: 0.7122598\ttotal: 10.8s\tremaining: 36.7s\n",
      "150:\tlearn: 0.7035743\ttotal: 17.4s\tremaining: 33.6s\n",
      "200:\tlearn: 0.6971476\ttotal: 24.7s\tremaining: 29.7s\n",
      "250:\tlearn: 0.6911508\ttotal: 31.5s\tremaining: 24.1s\n",
      "300:\tlearn: 0.6834176\ttotal: 38.7s\tremaining: 18.3s\n",
      "350:\tlearn: 0.6765608\ttotal: 45.9s\tremaining: 12s\n",
      "400:\tlearn: 0.6692687\ttotal: 53.1s\tremaining: 5.56s\n",
      "442:\tlearn: 0.6642179\ttotal: 59s\tremaining: 0us\n"
     ]
    }
   ],
   "source": [
    "cat = CatBoostClassifier(n_estimators=443, max_depth=8, random_seed=2, learning_rate =0.04, bootstrap_type ='Bernoulli')\n",
    "cat.fit(train_x, train_y, cat_features=cat_features, verbose=50)\n",
    "test_predictions = cat.predict_proba(test)"
   ]
  },
  {
   "cell_type": "markdown",
   "metadata": {},
   "source": [
    "# 결과 확인 및 제출 파일 생성"
   ]
  },
  {
   "cell_type": "code",
   "execution_count": 25,
   "metadata": {},
   "outputs": [
    {
     "data": {
      "text/plain": [
       "array([[0.13829551, 0.17505449, 0.68665   ],\n",
       "       [0.3400513 , 0.23890038, 0.42104832],\n",
       "       [0.03970559, 0.075411  , 0.88488341],\n",
       "       ...,\n",
       "       [0.04644717, 0.11143624, 0.84211659],\n",
       "       [0.14229699, 0.31695901, 0.540744  ],\n",
       "       [0.05513677, 0.44792195, 0.49694128]])"
      ]
     },
     "execution_count": 25,
     "metadata": {},
     "output_type": "execute_result"
    }
   ],
   "source": [
    "my_submission = test_predictions \n",
    "my_submission"
   ]
  },
  {
   "cell_type": "code",
   "execution_count": 26,
   "metadata": {},
   "outputs": [
    {
     "data": {
      "text/html": [
       "<div>\n",
       "<style scoped>\n",
       "    .dataframe tbody tr th:only-of-type {\n",
       "        vertical-align: middle;\n",
       "    }\n",
       "\n",
       "    .dataframe tbody tr th {\n",
       "        vertical-align: top;\n",
       "    }\n",
       "\n",
       "    .dataframe thead th {\n",
       "        text-align: right;\n",
       "    }\n",
       "</style>\n",
       "<table border=\"1\" class=\"dataframe\">\n",
       "  <thead>\n",
       "    <tr style=\"text-align: right;\">\n",
       "      <th></th>\n",
       "      <th>index</th>\n",
       "      <th>0</th>\n",
       "      <th>1</th>\n",
       "      <th>2</th>\n",
       "    </tr>\n",
       "  </thead>\n",
       "  <tbody>\n",
       "    <tr>\n",
       "      <th>0</th>\n",
       "      <td>26457</td>\n",
       "      <td>0.138296</td>\n",
       "      <td>0.175054</td>\n",
       "      <td>0.686650</td>\n",
       "    </tr>\n",
       "    <tr>\n",
       "      <th>1</th>\n",
       "      <td>26458</td>\n",
       "      <td>0.340051</td>\n",
       "      <td>0.238900</td>\n",
       "      <td>0.421048</td>\n",
       "    </tr>\n",
       "    <tr>\n",
       "      <th>2</th>\n",
       "      <td>26459</td>\n",
       "      <td>0.039706</td>\n",
       "      <td>0.075411</td>\n",
       "      <td>0.884883</td>\n",
       "    </tr>\n",
       "    <tr>\n",
       "      <th>3</th>\n",
       "      <td>26460</td>\n",
       "      <td>0.064676</td>\n",
       "      <td>0.072748</td>\n",
       "      <td>0.862576</td>\n",
       "    </tr>\n",
       "    <tr>\n",
       "      <th>4</th>\n",
       "      <td>26461</td>\n",
       "      <td>0.077521</td>\n",
       "      <td>0.208858</td>\n",
       "      <td>0.713621</td>\n",
       "    </tr>\n",
       "    <tr>\n",
       "      <th>...</th>\n",
       "      <td>...</td>\n",
       "      <td>...</td>\n",
       "      <td>...</td>\n",
       "      <td>...</td>\n",
       "    </tr>\n",
       "    <tr>\n",
       "      <th>9995</th>\n",
       "      <td>36452</td>\n",
       "      <td>0.062775</td>\n",
       "      <td>0.207264</td>\n",
       "      <td>0.729960</td>\n",
       "    </tr>\n",
       "    <tr>\n",
       "      <th>9996</th>\n",
       "      <td>36453</td>\n",
       "      <td>0.132797</td>\n",
       "      <td>0.431556</td>\n",
       "      <td>0.435647</td>\n",
       "    </tr>\n",
       "    <tr>\n",
       "      <th>9997</th>\n",
       "      <td>36454</td>\n",
       "      <td>0.046447</td>\n",
       "      <td>0.111436</td>\n",
       "      <td>0.842117</td>\n",
       "    </tr>\n",
       "    <tr>\n",
       "      <th>9998</th>\n",
       "      <td>36455</td>\n",
       "      <td>0.142297</td>\n",
       "      <td>0.316959</td>\n",
       "      <td>0.540744</td>\n",
       "    </tr>\n",
       "    <tr>\n",
       "      <th>9999</th>\n",
       "      <td>36456</td>\n",
       "      <td>0.055137</td>\n",
       "      <td>0.447922</td>\n",
       "      <td>0.496941</td>\n",
       "    </tr>\n",
       "  </tbody>\n",
       "</table>\n",
       "<p>10000 rows × 4 columns</p>\n",
       "</div>"
      ],
      "text/plain": [
       "      index         0         1         2\n",
       "0     26457  0.138296  0.175054  0.686650\n",
       "1     26458  0.340051  0.238900  0.421048\n",
       "2     26459  0.039706  0.075411  0.884883\n",
       "3     26460  0.064676  0.072748  0.862576\n",
       "4     26461  0.077521  0.208858  0.713621\n",
       "...     ...       ...       ...       ...\n",
       "9995  36452  0.062775  0.207264  0.729960\n",
       "9996  36453  0.132797  0.431556  0.435647\n",
       "9997  36454  0.046447  0.111436  0.842117\n",
       "9998  36455  0.142297  0.316959  0.540744\n",
       "9999  36456  0.055137  0.447922  0.496941\n",
       "\n",
       "[10000 rows x 4 columns]"
      ]
     },
     "execution_count": 26,
     "metadata": {},
     "output_type": "execute_result"
    }
   ],
   "source": [
    "submission=pd.read_csv('./data/sample_submission.csv')\n",
    "submission.loc[:,1:]=my_submission\n",
    "submission"
   ]
  },
  {
   "cell_type": "code",
   "execution_count": 27,
   "metadata": {},
   "outputs": [],
   "source": [
    "submission.to_csv('./data/10fold_cat_0.66575.csv', index=False) "
   ]
  },
  {
   "cell_type": "code",
   "execution_count": 28,
   "metadata": {},
   "outputs": [
    {
     "data": {
      "text/html": [
       "<div>\n",
       "<style scoped>\n",
       "    .dataframe tbody tr th:only-of-type {\n",
       "        vertical-align: middle;\n",
       "    }\n",
       "\n",
       "    .dataframe tbody tr th {\n",
       "        vertical-align: top;\n",
       "    }\n",
       "\n",
       "    .dataframe thead th {\n",
       "        text-align: right;\n",
       "    }\n",
       "</style>\n",
       "<table border=\"1\" class=\"dataframe\">\n",
       "  <thead>\n",
       "    <tr style=\"text-align: right;\">\n",
       "      <th></th>\n",
       "      <th>index</th>\n",
       "      <th>0</th>\n",
       "      <th>1</th>\n",
       "      <th>2</th>\n",
       "    </tr>\n",
       "  </thead>\n",
       "  <tbody>\n",
       "    <tr>\n",
       "      <th>0</th>\n",
       "      <td>26457</td>\n",
       "      <td>0.138296</td>\n",
       "      <td>0.175054</td>\n",
       "      <td>0.686650</td>\n",
       "    </tr>\n",
       "    <tr>\n",
       "      <th>1</th>\n",
       "      <td>26458</td>\n",
       "      <td>0.340051</td>\n",
       "      <td>0.238900</td>\n",
       "      <td>0.421048</td>\n",
       "    </tr>\n",
       "    <tr>\n",
       "      <th>2</th>\n",
       "      <td>26459</td>\n",
       "      <td>0.039706</td>\n",
       "      <td>0.075411</td>\n",
       "      <td>0.884883</td>\n",
       "    </tr>\n",
       "    <tr>\n",
       "      <th>3</th>\n",
       "      <td>26460</td>\n",
       "      <td>0.064676</td>\n",
       "      <td>0.072748</td>\n",
       "      <td>0.862576</td>\n",
       "    </tr>\n",
       "    <tr>\n",
       "      <th>4</th>\n",
       "      <td>26461</td>\n",
       "      <td>0.077521</td>\n",
       "      <td>0.208858</td>\n",
       "      <td>0.713621</td>\n",
       "    </tr>\n",
       "    <tr>\n",
       "      <th>5</th>\n",
       "      <td>26462</td>\n",
       "      <td>0.056017</td>\n",
       "      <td>0.125721</td>\n",
       "      <td>0.818262</td>\n",
       "    </tr>\n",
       "    <tr>\n",
       "      <th>6</th>\n",
       "      <td>26463</td>\n",
       "      <td>0.651822</td>\n",
       "      <td>0.325448</td>\n",
       "      <td>0.022729</td>\n",
       "    </tr>\n",
       "    <tr>\n",
       "      <th>7</th>\n",
       "      <td>26464</td>\n",
       "      <td>0.044295</td>\n",
       "      <td>0.084168</td>\n",
       "      <td>0.871537</td>\n",
       "    </tr>\n",
       "    <tr>\n",
       "      <th>8</th>\n",
       "      <td>26465</td>\n",
       "      <td>0.055915</td>\n",
       "      <td>0.082178</td>\n",
       "      <td>0.861907</td>\n",
       "    </tr>\n",
       "    <tr>\n",
       "      <th>9</th>\n",
       "      <td>26466</td>\n",
       "      <td>0.058975</td>\n",
       "      <td>0.273207</td>\n",
       "      <td>0.667817</td>\n",
       "    </tr>\n",
       "    <tr>\n",
       "      <th>10</th>\n",
       "      <td>26467</td>\n",
       "      <td>0.115408</td>\n",
       "      <td>0.103979</td>\n",
       "      <td>0.780613</td>\n",
       "    </tr>\n",
       "    <tr>\n",
       "      <th>11</th>\n",
       "      <td>26468</td>\n",
       "      <td>0.032439</td>\n",
       "      <td>0.082939</td>\n",
       "      <td>0.884622</td>\n",
       "    </tr>\n",
       "    <tr>\n",
       "      <th>12</th>\n",
       "      <td>26469</td>\n",
       "      <td>0.666139</td>\n",
       "      <td>0.090017</td>\n",
       "      <td>0.243844</td>\n",
       "    </tr>\n",
       "    <tr>\n",
       "      <th>13</th>\n",
       "      <td>26470</td>\n",
       "      <td>0.059818</td>\n",
       "      <td>0.424585</td>\n",
       "      <td>0.515596</td>\n",
       "    </tr>\n",
       "    <tr>\n",
       "      <th>14</th>\n",
       "      <td>26471</td>\n",
       "      <td>0.107057</td>\n",
       "      <td>0.127259</td>\n",
       "      <td>0.765684</td>\n",
       "    </tr>\n",
       "    <tr>\n",
       "      <th>15</th>\n",
       "      <td>26472</td>\n",
       "      <td>0.059826</td>\n",
       "      <td>0.283567</td>\n",
       "      <td>0.656607</td>\n",
       "    </tr>\n",
       "    <tr>\n",
       "      <th>16</th>\n",
       "      <td>26473</td>\n",
       "      <td>0.040360</td>\n",
       "      <td>0.071059</td>\n",
       "      <td>0.888581</td>\n",
       "    </tr>\n",
       "    <tr>\n",
       "      <th>17</th>\n",
       "      <td>26474</td>\n",
       "      <td>0.353324</td>\n",
       "      <td>0.622394</td>\n",
       "      <td>0.024282</td>\n",
       "    </tr>\n",
       "    <tr>\n",
       "      <th>18</th>\n",
       "      <td>26475</td>\n",
       "      <td>0.372737</td>\n",
       "      <td>0.144726</td>\n",
       "      <td>0.482537</td>\n",
       "    </tr>\n",
       "    <tr>\n",
       "      <th>19</th>\n",
       "      <td>26476</td>\n",
       "      <td>0.036711</td>\n",
       "      <td>0.089163</td>\n",
       "      <td>0.874126</td>\n",
       "    </tr>\n",
       "  </tbody>\n",
       "</table>\n",
       "</div>"
      ],
      "text/plain": [
       "    index         0         1         2\n",
       "0   26457  0.138296  0.175054  0.686650\n",
       "1   26458  0.340051  0.238900  0.421048\n",
       "2   26459  0.039706  0.075411  0.884883\n",
       "3   26460  0.064676  0.072748  0.862576\n",
       "4   26461  0.077521  0.208858  0.713621\n",
       "5   26462  0.056017  0.125721  0.818262\n",
       "6   26463  0.651822  0.325448  0.022729\n",
       "7   26464  0.044295  0.084168  0.871537\n",
       "8   26465  0.055915  0.082178  0.861907\n",
       "9   26466  0.058975  0.273207  0.667817\n",
       "10  26467  0.115408  0.103979  0.780613\n",
       "11  26468  0.032439  0.082939  0.884622\n",
       "12  26469  0.666139  0.090017  0.243844\n",
       "13  26470  0.059818  0.424585  0.515596\n",
       "14  26471  0.107057  0.127259  0.765684\n",
       "15  26472  0.059826  0.283567  0.656607\n",
       "16  26473  0.040360  0.071059  0.888581\n",
       "17  26474  0.353324  0.622394  0.024282\n",
       "18  26475  0.372737  0.144726  0.482537\n",
       "19  26476  0.036711  0.089163  0.874126"
      ]
     },
     "execution_count": 28,
     "metadata": {},
     "output_type": "execute_result"
    }
   ],
   "source": [
    "submission.head(20)"
   ]
  },
  {
   "cell_type": "code",
   "execution_count": null,
   "metadata": {},
   "outputs": [],
   "source": []
  },
  {
   "cell_type": "code",
   "execution_count": null,
   "metadata": {},
   "outputs": [],
   "source": []
  }
 ],
 "metadata": {
  "kernelspec": {
   "display_name": "Python 3",
   "language": "python",
   "name": "python3"
  },
  "language_info": {
   "codemirror_mode": {
    "name": "ipython",
    "version": 3
   },
   "file_extension": ".py",
   "mimetype": "text/x-python",
   "name": "python",
   "nbconvert_exporter": "python",
   "pygments_lexer": "ipython3",
   "version": "3.8.5"
  }
 },
 "nbformat": 4,
 "nbformat_minor": 5
}
